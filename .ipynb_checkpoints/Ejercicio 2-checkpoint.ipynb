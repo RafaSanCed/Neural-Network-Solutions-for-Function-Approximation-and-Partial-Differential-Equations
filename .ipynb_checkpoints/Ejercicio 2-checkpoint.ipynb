{
 "cells": [
  {
   "cell_type": "markdown",
   "id": "34e296a5",
   "metadata": {},
   "source": [
    "Entrenar una red neuronal que dé la solución de las siguientes ecuaciones diferenciales en el el intervalo $[-5,5]$.  Graficar la solucion numérica junto con la solucion analıtica.\n",
    "\n",
    "$ (a)\\hspace{1cm} xy^\\prime+y = x^2 \\cos(x) \\hspace{0.2cm}$  con $\\hspace{0.2cm} y(0) = 0$\n",
    "\n",
    "$ (b)\\hspace{1cm} \\frac{d^2y}{dx^2} = -y \\hspace{0.2cm}$  con $ \\hspace{0.2cm}y(0) = 1, \\hspace{0.2cm} y(0) = -0.5 $"
   ]
  },
  {
   "cell_type": "markdown",
   "id": "1af0561c",
   "metadata": {},
   "source": [
    "# $ (a)\\hspace{1cm} xy^\\prime+y = x^2 \\cos(x) \\hspace{0.2cm}$  con $\\hspace{0.2cm} y(0) = 0$\n"
   ]
  },
  {
   "cell_type": "code",
   "execution_count": 2,
   "id": "2785d5c3",
   "metadata": {
    "ExecuteTime": {
     "end_time": "2022-10-20T14:57:35.435176Z",
     "start_time": "2022-10-20T14:57:32.657600Z"
    }
   },
   "outputs": [],
   "source": [
    "import tensorflow as tf\n",
    "from tensorflow import keras\n",
    "from tensorflow.keras.models import Sequential\n",
    "from tensorflow.keras.layers import Dense, Dropout\n",
    "from tensorflow.keras.optimizers import RMSprop, Adam"
   ]
  },
  {
   "cell_type": "code",
   "execution_count": 3,
   "id": "65a69f4d",
   "metadata": {
    "ExecuteTime": {
     "end_time": "2022-10-20T14:57:36.175732Z",
     "start_time": "2022-10-20T14:57:35.459203Z"
    }
   },
   "outputs": [],
   "source": [
    "from matplotlib import pyplot as plt\n",
    "import numpy as np\n",
    "import math"
   ]
  },
  {
   "cell_type": "code",
   "execution_count": 85,
   "id": "9dcad5d0",
   "metadata": {
    "ExecuteTime": {
     "end_time": "2022-10-20T15:46:20.534730Z",
     "start_time": "2022-10-20T15:46:20.518773Z"
    }
   },
   "outputs": [],
   "source": [
    "class ODEsolver(Sequential):\n",
    "    def __init__(self, **kwargs):\n",
    "        super().__init__(**kwargs)\n",
    "        self.loss_tracker = keras.metrics.Mean(name=\"loss\")\n",
    "    @property\n",
    "    def metrics(self):\n",
    "        return [self.loss_tracker]\n",
    "\n",
    "    def train_step(self, data):\n",
    "        batch_size=tf.shape(data)[0]\n",
    "        x=tf.random.uniform((batch_size,1),minval=-5,maxval=5)\n",
    "    \n",
    "        with tf.GradientTape() as tape: \n",
    "            #Compute the loss value\n",
    "            with tf.GradientTape() as tape2: \n",
    "                tape2.watch(x)\n",
    "                y_pred = self(x, training=True)\n",
    "            dy = tape2.gradient(y_pred, x)\n",
    "            x_o = tf.zeros((batch_size, 1))\n",
    "            y_o = self(x_o, training = True)\n",
    "            eq = x*dy + y_pred-x**2*tf.cos(x)\n",
    "            ic = y_o\n",
    "            loss= keras.losses.mean_squared_error(0., eq) + keras.losses.mean_absolute_error(0., ic)\n",
    "        # Apply grads\n",
    "        grads = tape.gradient(loss, self.trainable_variables)\n",
    "        self.optimizer.apply_gradients(zip(grads, self.trainable_variables))\n",
    "        # Update metrics\n",
    "        self.loss_tracker.update_state(loss)\n",
    "        # Return a dict mapping metric names to current value\n",
    "        return {\"loss\": self.loss_tracker.result()}"
   ]
  },
  {
   "cell_type": "code",
   "execution_count": 86,
   "id": "0d1e6cd9",
   "metadata": {
    "ExecuteTime": {
     "end_time": "2022-10-20T15:46:21.006367Z",
     "start_time": "2022-10-20T15:46:20.924035Z"
    }
   },
   "outputs": [],
   "source": [
    "model = ODEsolver()\n",
    "\n",
    "model.add(Dense(10, activation='tanh', input_shape=(1,)))\n",
    "model.add(Dense(10, activation='tanh'))\n",
    "model.add(Dense(10, activation='tanh'))\n",
    "model.add(Dense(10, activation='tanh'))\n",
    "model.add(Dense(1, activation='linear'))"
   ]
  },
  {
   "cell_type": "code",
   "execution_count": 87,
   "id": "8fc1a31f",
   "metadata": {
    "ExecuteTime": {
     "end_time": "2022-10-20T15:46:21.335112Z",
     "start_time": "2022-10-20T15:46:21.312173Z"
    }
   },
   "outputs": [
    {
     "name": "stdout",
     "output_type": "stream",
     "text": [
      "Model: \"od_esolver_13\"\n",
      "_________________________________________________________________\n",
      " Layer (type)                Output Shape              Param #   \n",
      "=================================================================\n",
      " dense_49 (Dense)            (None, 10)                20        \n",
      "                                                                 \n",
      " dense_50 (Dense)            (None, 10)                110       \n",
      "                                                                 \n",
      " dense_51 (Dense)            (None, 10)                110       \n",
      "                                                                 \n",
      " dense_52 (Dense)            (None, 10)                110       \n",
      "                                                                 \n",
      " dense_53 (Dense)            (None, 1)                 11        \n",
      "                                                                 \n",
      "=================================================================\n",
      "Total params: 361\n",
      "Trainable params: 361\n",
      "Non-trainable params: 0\n",
      "_________________________________________________________________\n"
     ]
    }
   ],
   "source": [
    "model.summary()"
   ]
  },
  {
   "cell_type": "code",
   "execution_count": 93,
   "id": "037f7e5a",
   "metadata": {
    "ExecuteTime": {
     "end_time": "2022-10-20T15:51:01.499619Z",
     "start_time": "2022-10-20T15:50:59.233933Z"
    }
   },
   "outputs": [
    {
     "name": "stdout",
     "output_type": "stream",
     "text": [
      "Epoch 1/100\n",
      "4/4 [==============================] - 1s 4ms/step - loss: 0.4205\n",
      "Epoch 2/100\n",
      "4/4 [==============================] - 0s 3ms/step - loss: 0.3989\n",
      "Epoch 3/100\n",
      "4/4 [==============================] - 0s 2ms/step - loss: 0.0453\n",
      "Epoch 4/100\n",
      "4/4 [==============================] - 0s 2ms/step - loss: 0.2516\n",
      "Epoch 5/100\n",
      "4/4 [==============================] - 0s 2ms/step - loss: 0.0617\n",
      "Epoch 6/100\n",
      "4/4 [==============================] - 0s 3ms/step - loss: 0.1734\n",
      "Epoch 7/100\n",
      "4/4 [==============================] - 0s 3ms/step - loss: 0.0331\n",
      "Epoch 8/100\n",
      "4/4 [==============================] - 0s 3ms/step - loss: 0.0239\n",
      "Epoch 9/100\n",
      "4/4 [==============================] - 0s 2ms/step - loss: 0.0244\n",
      "Epoch 10/100\n",
      "4/4 [==============================] - 0s 2ms/step - loss: 0.3167\n",
      "Epoch 11/100\n",
      "4/4 [==============================] - 0s 3ms/step - loss: 0.1338\n",
      "Epoch 12/100\n",
      "4/4 [==============================] - 0s 3ms/step - loss: 0.0928\n",
      "Epoch 13/100\n",
      "4/4 [==============================] - 0s 2ms/step - loss: 0.3597\n",
      "Epoch 14/100\n",
      "4/4 [==============================] - 0s 3ms/step - loss: 0.0804\n",
      "Epoch 15/100\n",
      "4/4 [==============================] - 0s 2ms/step - loss: 0.0261\n",
      "Epoch 16/100\n",
      "4/4 [==============================] - 0s 2ms/step - loss: 0.1199\n",
      "Epoch 17/100\n",
      "4/4 [==============================] - 0s 3ms/step - loss: 0.2227\n",
      "Epoch 18/100\n",
      "4/4 [==============================] - 0s 3ms/step - loss: 0.0221\n",
      "Epoch 19/100\n",
      "4/4 [==============================] - 0s 2ms/step - loss: 0.0955\n",
      "Epoch 20/100\n",
      "4/4 [==============================] - 0s 2ms/step - loss: 0.3666\n",
      "Epoch 21/100\n",
      "4/4 [==============================] - 0s 3ms/step - loss: 0.0289\n",
      "Epoch 22/100\n",
      "4/4 [==============================] - 0s 3ms/step - loss: 0.0328\n",
      "Epoch 23/100\n",
      "4/4 [==============================] - 0s 2ms/step - loss: 0.1366\n",
      "Epoch 24/100\n",
      "4/4 [==============================] - 0s 3ms/step - loss: 0.0777\n",
      "Epoch 25/100\n",
      "4/4 [==============================] - 0s 3ms/step - loss: 0.3358\n",
      "Epoch 26/100\n",
      "4/4 [==============================] - 0s 2ms/step - loss: 0.0251\n",
      "Epoch 27/100\n",
      "4/4 [==============================] - 0s 2ms/step - loss: 0.1449\n",
      "Epoch 28/100\n",
      "4/4 [==============================] - 0s 2ms/step - loss: 0.2238\n",
      "Epoch 29/100\n",
      "4/4 [==============================] - 0s 3ms/step - loss: 0.0911\n",
      "Epoch 30/100\n",
      "4/4 [==============================] - 0s 3ms/step - loss: 0.0417\n",
      "Epoch 31/100\n",
      "4/4 [==============================] - 0s 2ms/step - loss: 0.2688\n",
      "Epoch 32/100\n",
      "4/4 [==============================] - 0s 3ms/step - loss: 0.0494\n",
      "Epoch 33/100\n",
      "4/4 [==============================] - 0s 2ms/step - loss: 0.0252\n",
      "Epoch 34/100\n",
      "4/4 [==============================] - 0s 2ms/step - loss: 0.1288\n",
      "Epoch 35/100\n",
      "4/4 [==============================] - 0s 2ms/step - loss: 0.3503\n",
      "Epoch 36/100\n",
      "4/4 [==============================] - 0s 2ms/step - loss: 0.0913\n",
      "Epoch 37/100\n",
      "4/4 [==============================] - 0s 2ms/step - loss: 0.0846\n",
      "Epoch 38/100\n",
      "4/4 [==============================] - 0s 2ms/step - loss: 0.0497\n",
      "Epoch 39/100\n",
      "4/4 [==============================] - 0s 3ms/step - loss: 0.0811\n",
      "Epoch 40/100\n",
      "4/4 [==============================] - 0s 3ms/step - loss: 0.1731\n",
      "Epoch 41/100\n",
      "4/4 [==============================] - 0s 3ms/step - loss: 0.0668\n",
      "Epoch 42/100\n",
      "4/4 [==============================] - 0s 2ms/step - loss: 0.0566\n",
      "Epoch 43/100\n",
      "4/4 [==============================] - 0s 3ms/step - loss: 0.4043\n",
      "Epoch 44/100\n",
      "4/4 [==============================] - 0s 2ms/step - loss: 0.1668\n",
      "Epoch 45/100\n",
      "4/4 [==============================] - 0s 2ms/step - loss: 0.0568\n",
      "Epoch 46/100\n",
      "4/4 [==============================] - 0s 2ms/step - loss: 0.1121\n",
      "Epoch 47/100\n",
      "4/4 [==============================] - 0s 2ms/step - loss: 0.1932\n",
      "Epoch 48/100\n",
      "4/4 [==============================] - 0s 3ms/step - loss: 0.0338\n",
      "Epoch 49/100\n",
      "4/4 [==============================] - 0s 2ms/step - loss: 0.0793\n",
      "Epoch 50/100\n",
      "4/4 [==============================] - 0s 2ms/step - loss: 0.4326\n",
      "Epoch 51/100\n",
      "4/4 [==============================] - 0s 2ms/step - loss: 0.0805\n",
      "Epoch 52/100\n",
      "4/4 [==============================] - 0s 2ms/step - loss: 0.1255\n",
      "Epoch 53/100\n",
      "4/4 [==============================] - 0s 2ms/step - loss: 0.0807\n",
      "Epoch 54/100\n",
      "4/4 [==============================] - 0s 2ms/step - loss: 0.0425\n",
      "Epoch 55/100\n",
      "4/4 [==============================] - 0s 3ms/step - loss: 0.2346\n",
      "Epoch 56/100\n",
      "4/4 [==============================] - 0s 3ms/step - loss: 0.1791\n",
      "Epoch 57/100\n",
      "4/4 [==============================] - 0s 3ms/step - loss: 0.3296\n",
      "Epoch 58/100\n",
      "4/4 [==============================] - 0s 3ms/step - loss: 0.0184\n",
      "Epoch 59/100\n",
      "4/4 [==============================] - 0s 2ms/step - loss: 0.0258\n",
      "Epoch 60/100\n",
      "4/4 [==============================] - 0s 2ms/step - loss: 0.0300\n",
      "Epoch 61/100\n",
      "4/4 [==============================] - 0s 2ms/step - loss: 0.1623\n",
      "Epoch 62/100\n",
      "4/4 [==============================] - 0s 3ms/step - loss: 0.5563\n",
      "Epoch 63/100\n",
      "4/4 [==============================] - 0s 2ms/step - loss: 0.0534\n",
      "Epoch 64/100\n",
      "4/4 [==============================] - 0s 2ms/step - loss: 0.0323\n",
      "Epoch 65/100\n",
      "4/4 [==============================] - 0s 2ms/step - loss: 0.0282\n",
      "Epoch 66/100\n",
      "4/4 [==============================] - 0s 2ms/step - loss: 0.0289\n",
      "Epoch 67/100\n",
      "4/4 [==============================] - 0s 2ms/step - loss: 0.1917\n",
      "Epoch 68/100\n",
      "4/4 [==============================] - 0s 2ms/step - loss: 0.0686\n",
      "Epoch 69/100\n",
      "4/4 [==============================] - 0s 2ms/step - loss: 0.0358\n",
      "Epoch 70/100\n",
      "4/4 [==============================] - 0s 2ms/step - loss: 0.8037\n",
      "Epoch 71/100\n",
      "4/4 [==============================] - 0s 2ms/step - loss: 0.0854\n",
      "Epoch 72/100\n",
      "4/4 [==============================] - 0s 5ms/step - loss: 0.0285\n",
      "Epoch 73/100\n",
      "4/4 [==============================] - 0s 3ms/step - loss: 0.0246\n",
      "Epoch 74/100\n",
      "4/4 [==============================] - 0s 2ms/step - loss: 0.0303\n",
      "Epoch 75/100\n",
      "4/4 [==============================] - 0s 3ms/step - loss: 0.0351\n",
      "Epoch 76/100\n",
      "4/4 [==============================] - 0s 3ms/step - loss: 0.2821\n",
      "Epoch 77/100\n",
      "4/4 [==============================] - 0s 2ms/step - loss: 0.4651\n",
      "Epoch 78/100\n",
      "4/4 [==============================] - 0s 2ms/step - loss: 0.0327\n",
      "Epoch 79/100\n",
      "4/4 [==============================] - 0s 2ms/step - loss: 0.0271\n",
      "Epoch 80/100\n",
      "4/4 [==============================] - 0s 3ms/step - loss: 0.0628\n",
      "Epoch 81/100\n",
      "4/4 [==============================] - 0s 2ms/step - loss: 0.2327\n",
      "Epoch 82/100\n",
      "4/4 [==============================] - 0s 2ms/step - loss: 0.0874\n",
      "Epoch 83/100\n",
      "4/4 [==============================] - 0s 2ms/step - loss: 0.2401\n",
      "Epoch 84/100\n",
      "4/4 [==============================] - 0s 3ms/step - loss: 0.3455\n",
      "Epoch 85/100\n",
      "4/4 [==============================] - 0s 2ms/step - loss: 0.0440\n",
      "Epoch 86/100\n",
      "4/4 [==============================] - 0s 2ms/step - loss: 0.0361\n",
      "Epoch 87/100\n",
      "4/4 [==============================] - 0s 2ms/step - loss: 0.1952\n",
      "Epoch 88/100\n",
      "4/4 [==============================] - 0s 2ms/step - loss: 0.2134\n",
      "Epoch 89/100\n",
      "4/4 [==============================] - 0s 2ms/step - loss: 0.0219\n",
      "Epoch 90/100\n",
      "4/4 [==============================] - 0s 3ms/step - loss: 0.0509\n",
      "Epoch 91/100\n",
      "4/4 [==============================] - 0s 2ms/step - loss: 0.0615\n",
      "Epoch 92/100\n",
      "4/4 [==============================] - 0s 2ms/step - loss: 0.0625\n",
      "Epoch 93/100\n",
      "4/4 [==============================] - 0s 2ms/step - loss: 0.0364\n",
      "Epoch 94/100\n",
      "4/4 [==============================] - 0s 2ms/step - loss: 0.7183\n",
      "Epoch 95/100\n",
      "4/4 [==============================] - 0s 2ms/step - loss: 0.1924\n",
      "Epoch 96/100\n",
      "4/4 [==============================] - 0s 2ms/step - loss: 0.0629\n",
      "Epoch 97/100\n",
      "4/4 [==============================] - 0s 3ms/step - loss: 0.0288\n",
      "Epoch 98/100\n",
      "4/4 [==============================] - 0s 3ms/step - loss: 0.0304\n",
      "Epoch 99/100\n",
      "4/4 [==============================] - 0s 3ms/step - loss: 0.0867\n",
      "Epoch 100/100\n",
      "4/4 [==============================] - 0s 2ms/step - loss: 0.1644\n",
      "4/4 [==============================] - 0s 2ms/step\n"
     ]
    }
   ],
   "source": [
    "model.compile(optimizer = RMSprop(), metrics=['loss'])\n",
    "\n",
    "x= tf.linspace(-5,5,100)\n",
    "history = model.fit(x, epochs=100, verbose=1)\n",
    "\n",
    "x_testv = tf.linspace(-5,5,100)\n",
    "a = model.predict(x_testv)"
   ]
  },
  {
   "cell_type": "markdown",
   "id": "00093c70",
   "metadata": {},
   "source": [
    "La solución a esta ecuación diferencial es $y(x)=\\frac{(x^2-2)sin(x)}{x}+2cos(x)$"
   ]
  },
  {
   "cell_type": "code",
   "execution_count": 91,
   "id": "ad45121a",
   "metadata": {
    "ExecuteTime": {
     "end_time": "2022-10-20T15:48:00.006694Z",
     "start_time": "2022-10-20T15:47:59.885706Z"
    }
   },
   "outputs": [
    {
     "data": {
      "image/png": "[encoded data removed]",
      "text/plain": [
       "<Figure size 640x480 with 1 Axes>"
      ]
     },
     "metadata": {},
     "output_type": "display_data"
    }
   ],
   "source": [
    "plt.plot(x_testv, a, color='red')\n",
    "plt.plot(x_testv,((x**2-2)*np.sin(x))/(x)+2*np.cos(x), color= 'green')\n",
    "plt.show()"
   ]
  },
  {
   "cell_type": "markdown",
   "id": "6a890414",
   "metadata": {},
   "source": [
    "# $ (b)\\hspace{1cm} \\frac{d^2y}{dx^2} = -y \\hspace{0.2cm}$  con $ \\hspace{0.2cm}y(0) = 1, \\hspace{0.2cm} y^\\prime(0) = -0.5 $"
   ]
  },
  {
   "cell_type": "code",
   "execution_count": 29,
   "id": "fed9dcf6",
   "metadata": {
    "ExecuteTime": {
     "end_time": "2022-10-19T23:05:18.405400Z",
     "start_time": "2022-10-19T23:05:18.381399Z"
    }
   },
   "outputs": [],
   "source": []
  },
  {
   "cell_type": "code",
   "execution_count": 67,
   "id": "0735a2b8",
   "metadata": {
    "ExecuteTime": {
     "end_time": "2022-10-20T15:37:13.357003Z",
     "start_time": "2022-10-20T15:37:13.342498Z"
    }
   },
   "outputs": [],
   "source": [
    "class ODEsolver(Sequential):\n",
    "    def __init__(self, **kwargs):\n",
    "        super().__init__(**kwargs)\n",
    "        self.loss_tracker = keras.metrics.Mean(name=\"loss\")\n",
    "        \n",
    "    @property\n",
    "    def metrics(self):\n",
    "        return [self.loss_tracker]\n",
    "    \n",
    "    def train_step(self, data):\n",
    "        batch_size = tf.shape(data)[0]\n",
    "        x = tf.random.uniform((batch_size,1), minval= -5, maxval= 5)\n",
    "        x_0 = tf.zeros((batch_size,1))\n",
    "\n",
    "        with tf.GradientTape() as tape:\n",
    "            #Compute the loss value\n",
    "            with tf.GradientTape(persistent=True) as g:\n",
    "                g.watch(x)\n",
    "                g.watch(x_0)\n",
    "\n",
    "                with tf.GradientTape() as gg:\n",
    "                    gg.watch(x)    \n",
    "                    y_pred = self(x, training=True)\n",
    "                y_x = gg.gradient(y_pred,x)\n",
    "                y_0 = self(x_0, training=True)\n",
    "\n",
    "            ddy = g.gradient(y_x, x)\n",
    "            dy_xo = g.gradient(y_0,x_0)\n",
    "            eq = ddy + y_pred\n",
    "            ic = y_0 - 1.0 \n",
    "            ic1 = dy_xo + 0.5\n",
    "            loss = keras.losses.mean_squared_error(0., eq) + keras.losses.mean_squared_error(0., ic) + keras.losses.mean_squared_error(0., ic1)\n",
    "\n",
    "        # Apply grads\n",
    "        grads = tape.gradient(loss, self.trainable_variables)\n",
    "        self.optimizer.apply_gradients(zip(grads, self.trainable_variables))\n",
    "        # Update metrics\n",
    "        self.loss_tracker.update_state(loss)\n",
    "        # Return a dict mapping metric names to current value\n",
    "        return {\"loss\": self.loss_tracker.result()}"
   ]
  },
  {
   "cell_type": "code",
   "execution_count": 68,
   "id": "5eeaa305",
   "metadata": {
    "ExecuteTime": {
     "end_time": "2022-10-20T15:37:13.936496Z",
     "start_time": "2022-10-20T15:37:13.875536Z"
    }
   },
   "outputs": [],
   "source": [
    "model = ODEsolver()\n",
    "\n",
    "model.add(Dense(10, activation='tanh', input_shape=(1,)))\n",
    "model.add(Dense(10, activation='tanh'))\n",
    "model.add(Dense(10, activation='tanh'))\n",
    "\n",
    "model.add(Dense(1, activation='linear'))"
   ]
  },
  {
   "cell_type": "code",
   "execution_count": 69,
   "id": "e01078c1",
   "metadata": {
    "ExecuteTime": {
     "end_time": "2022-10-20T15:37:14.173593Z",
     "start_time": "2022-10-20T15:37:14.156636Z"
    }
   },
   "outputs": [
    {
     "name": "stdout",
     "output_type": "stream",
     "text": [
      "Model: \"od_esolver_11\"\n",
      "_________________________________________________________________\n",
      " Layer (type)                Output Shape              Param #   \n",
      "=================================================================\n",
      " dense_40 (Dense)            (None, 10)                20        \n",
      "                                                                 \n",
      " dense_41 (Dense)            (None, 10)                110       \n",
      "                                                                 \n",
      " dense_42 (Dense)            (None, 10)                110       \n",
      "                                                                 \n",
      " dense_43 (Dense)            (None, 1)                 11        \n",
      "                                                                 \n",
      "=================================================================\n",
      "Total params: 251\n",
      "Trainable params: 251\n",
      "Non-trainable params: 0\n",
      "_________________________________________________________________\n"
     ]
    }
   ],
   "source": [
    "model.summary()"
   ]
  },
  {
   "cell_type": "code",
   "execution_count": 74,
   "id": "cc73f225",
   "metadata": {
    "ExecuteTime": {
     "end_time": "2022-10-20T15:45:07.860079Z",
     "start_time": "2022-10-20T15:45:05.462107Z"
    }
   },
   "outputs": [
    {
     "name": "stdout",
     "output_type": "stream",
     "text": [
      "Epoch 1/100\n",
      "4/4 [==============================] - 1s 6ms/step - loss: 0.0240\n",
      "Epoch 2/100\n",
      "4/4 [==============================] - 0s 0s/step - loss: 2.4533e-04\n",
      "Epoch 3/100\n",
      "4/4 [==============================] - 0s 0s/step - loss: 2.3407e-04\n",
      "Epoch 4/100\n",
      "4/4 [==============================] - 0s 8ms/step - loss: 1.8077e-04\n",
      "Epoch 5/100\n",
      "4/4 [==============================] - 0s 3ms/step - loss: 2.1502e-04\n",
      "Epoch 6/100\n",
      "4/4 [==============================] - 0s 2ms/step - loss: 6.6432e-04\n",
      "Epoch 7/100\n",
      "4/4 [==============================] - 0s 3ms/step - loss: 0.0015\n",
      "Epoch 8/100\n",
      "4/4 [==============================] - 0s 3ms/step - loss: 0.0041\n",
      "Epoch 9/100\n",
      "4/4 [==============================] - 0s 3ms/step - loss: 0.0047\n",
      "Epoch 10/100\n",
      "4/4 [==============================] - 0s 3ms/step - loss: 4.0127e-04\n",
      "Epoch 11/100\n",
      "4/4 [==============================] - 0s 1ms/step - loss: 6.2276e-04\n",
      "Epoch 12/100\n",
      "4/4 [==============================] - 0s 2ms/step - loss: 0.0051\n",
      "Epoch 13/100\n",
      "4/4 [==============================] - 0s 2ms/step - loss: 0.0037\n",
      "Epoch 14/100\n",
      "4/4 [==============================] - 0s 3ms/step - loss: 0.0014\n",
      "Epoch 15/100\n",
      "4/4 [==============================] - 0s 2ms/step - loss: 4.2273e-04\n",
      "Epoch 16/100\n",
      "4/4 [==============================] - 0s 2ms/step - loss: 9.6530e-04\n",
      "Epoch 17/100\n",
      "4/4 [==============================] - 0s 3ms/step - loss: 0.0030\n",
      "Epoch 18/100\n",
      "4/4 [==============================] - 0s 2ms/step - loss: 0.0043\n",
      "Epoch 19/100\n",
      "4/4 [==============================] - 0s 2ms/step - loss: 0.0028\n",
      "Epoch 20/100\n",
      "4/4 [==============================] - 0s 3ms/step - loss: 0.0013\n",
      "Epoch 21/100\n",
      "4/4 [==============================] - 0s 2ms/step - loss: 0.0047\n",
      "Epoch 22/100\n",
      "4/4 [==============================] - 0s 2ms/step - loss: 0.0017\n",
      "Epoch 23/100\n",
      "4/4 [==============================] - 0s 2ms/step - loss: 4.9763e-04\n",
      "Epoch 24/100\n",
      "4/4 [==============================] - 0s 3ms/step - loss: 0.0015\n",
      "Epoch 25/100\n",
      "4/4 [==============================] - 0s 3ms/step - loss: 0.0036\n",
      "Epoch 26/100\n",
      "4/4 [==============================] - 0s 2ms/step - loss: 0.0025\n",
      "Epoch 27/100\n",
      "4/4 [==============================] - 0s 3ms/step - loss: 0.0011\n",
      "Epoch 28/100\n",
      "4/4 [==============================] - 0s 2ms/step - loss: 0.0036\n",
      "Epoch 29/100\n",
      "4/4 [==============================] - 0s 2ms/step - loss: 0.0029\n",
      "Epoch 30/100\n",
      "4/4 [==============================] - 0s 2ms/step - loss: 0.0020\n",
      "Epoch 31/100\n",
      "4/4 [==============================] - 0s 3ms/step - loss: 0.0026\n",
      "Epoch 32/100\n",
      "4/4 [==============================] - 0s 2ms/step - loss: 6.6564e-04\n",
      "Epoch 33/100\n",
      "4/4 [==============================] - 0s 2ms/step - loss: 3.1268e-04\n",
      "Epoch 34/100\n",
      "4/4 [==============================] - 0s 2ms/step - loss: 4.6877e-04\n",
      "Epoch 35/100\n",
      "4/4 [==============================] - 0s 2ms/step - loss: 0.0074\n",
      "Epoch 36/100\n",
      "4/4 [==============================] - 0s 2ms/step - loss: 0.0028\n",
      "Epoch 37/100\n",
      "4/4 [==============================] - 0s 2ms/step - loss: 4.8253e-04\n",
      "Epoch 38/100\n",
      "4/4 [==============================] - 0s 2ms/step - loss: 8.2172e-04\n",
      "Epoch 39/100\n",
      "4/4 [==============================] - 0s 2ms/step - loss: 0.0016\n",
      "Epoch 40/100\n",
      "4/4 [==============================] - 0s 2ms/step - loss: 0.0081\n",
      "Epoch 41/100\n",
      "4/4 [==============================] - 0s 2ms/step - loss: 0.0016\n",
      "Epoch 42/100\n",
      "4/4 [==============================] - 0s 2ms/step - loss: 3.1106e-04\n",
      "Epoch 43/100\n",
      "4/4 [==============================] - 0s 2ms/step - loss: 2.2527e-04\n",
      "Epoch 44/100\n",
      "4/4 [==============================] - 0s 3ms/step - loss: 0.0013\n",
      "Epoch 45/100\n",
      "4/4 [==============================] - 0s 2ms/step - loss: 0.0071\n",
      "Epoch 46/100\n",
      "4/4 [==============================] - 0s 2ms/step - loss: 0.0013\n",
      "Epoch 47/100\n",
      "4/4 [==============================] - 0s 2ms/step - loss: 0.0010\n",
      "Epoch 48/100\n",
      "4/4 [==============================] - 0s 2ms/step - loss: 0.0019\n",
      "Epoch 49/100\n",
      "4/4 [==============================] - 0s 2ms/step - loss: 4.0454e-04\n",
      "Epoch 50/100\n",
      "4/4 [==============================] - 0s 3ms/step - loss: 0.0037\n",
      "Epoch 51/100\n",
      "4/4 [==============================] - 0s 3ms/step - loss: 0.0011\n",
      "Epoch 52/100\n",
      "4/4 [==============================] - 0s 2ms/step - loss: 0.0047\n",
      "Epoch 53/100\n",
      "4/4 [==============================] - 0s 2ms/step - loss: 0.0035\n",
      "Epoch 54/100\n",
      "4/4 [==============================] - 0s 2ms/step - loss: 0.0018\n",
      "Epoch 55/100\n",
      "4/4 [==============================] - 0s 2ms/step - loss: 3.4378e-04\n",
      "Epoch 56/100\n",
      "4/4 [==============================] - 0s 2ms/step - loss: 6.6032e-04\n",
      "Epoch 57/100\n",
      "4/4 [==============================] - 0s 2ms/step - loss: 0.0026\n",
      "Epoch 58/100\n",
      "4/4 [==============================] - 0s 2ms/step - loss: 0.0078\n",
      "Epoch 59/100\n",
      "4/4 [==============================] - 0s 2ms/step - loss: 6.1646e-04\n",
      "Epoch 60/100\n",
      "4/4 [==============================] - 0s 2ms/step - loss: 2.0491e-04\n",
      "Epoch 61/100\n",
      "4/4 [==============================] - 0s 3ms/step - loss: 5.1113e-04\n",
      "Epoch 62/100\n",
      "4/4 [==============================] - 0s 3ms/step - loss: 0.0090\n",
      "Epoch 63/100\n",
      "4/4 [==============================] - 0s 3ms/step - loss: 4.3412e-04\n",
      "Epoch 64/100\n",
      "4/4 [==============================] - 0s 2ms/step - loss: 2.4579e-04\n",
      "Epoch 65/100\n",
      "4/4 [==============================] - 0s 2ms/step - loss: 7.5092e-04\n",
      "Epoch 66/100\n",
      "4/4 [==============================] - 0s 2ms/step - loss: 0.0046\n",
      "Epoch 67/100\n",
      "4/4 [==============================] - 0s 2ms/step - loss: 7.9656e-04\n",
      "Epoch 68/100\n",
      "4/4 [==============================] - 0s 2ms/step - loss: 9.6065e-04\n",
      "Epoch 69/100\n",
      "4/4 [==============================] - 0s 2ms/step - loss: 0.0029\n",
      "Epoch 70/100\n",
      "4/4 [==============================] - 0s 2ms/step - loss: 0.0022\n",
      "Epoch 71/100\n",
      "4/4 [==============================] - 0s 2ms/step - loss: 0.0015\n",
      "Epoch 72/100\n",
      "4/4 [==============================] - 0s 2ms/step - loss: 5.8952e-04\n",
      "Epoch 73/100\n",
      "4/4 [==============================] - 0s 2ms/step - loss: 0.0045\n",
      "Epoch 74/100\n",
      "4/4 [==============================] - 0s 2ms/step - loss: 0.0068\n",
      "Epoch 75/100\n",
      "4/4 [==============================] - 0s 2ms/step - loss: 2.2595e-04\n",
      "Epoch 76/100\n",
      "4/4 [==============================] - 0s 2ms/step - loss: 3.5853e-04\n",
      "Epoch 77/100\n",
      "4/4 [==============================] - 0s 2ms/step - loss: 3.4361e-04\n",
      "Epoch 78/100\n",
      "4/4 [==============================] - 0s 2ms/step - loss: 0.0040\n",
      "Epoch 79/100\n",
      "4/4 [==============================] - 0s 2ms/step - loss: 0.0050\n",
      "Epoch 80/100\n",
      "4/4 [==============================] - 0s 2ms/step - loss: 1.8537e-04\n",
      "Epoch 81/100\n",
      "4/4 [==============================] - 0s 2ms/step - loss: 1.5856e-04\n",
      "Epoch 82/100\n",
      "4/4 [==============================] - 0s 2ms/step - loss: 8.6257e-04\n",
      "Epoch 83/100\n",
      "4/4 [==============================] - 0s 2ms/step - loss: 0.0095\n",
      "Epoch 84/100\n",
      "4/4 [==============================] - 0s 2ms/step - loss: 0.0037\n",
      "Epoch 85/100\n",
      "4/4 [==============================] - 0s 2ms/step - loss: 2.1966e-04\n",
      "Epoch 86/100\n",
      "4/4 [==============================] - 0s 2ms/step - loss: 1.7019e-04\n",
      "Epoch 87/100\n",
      "4/4 [==============================] - 0s 2ms/step - loss: 3.3864e-04\n",
      "Epoch 88/100\n",
      "4/4 [==============================] - 0s 2ms/step - loss: 7.5539e-04\n",
      "Epoch 89/100\n",
      "4/4 [==============================] - 0s 2ms/step - loss: 0.0122\n",
      "Epoch 90/100\n",
      "4/4 [==============================] - 0s 2ms/step - loss: 0.0016\n",
      "Epoch 91/100\n",
      "4/4 [==============================] - 0s 2ms/step - loss: 1.7669e-04\n",
      "Epoch 92/100\n",
      "4/4 [==============================] - 0s 2ms/step - loss: 2.9140e-04\n",
      "Epoch 93/100\n",
      "4/4 [==============================] - 0s 2ms/step - loss: 3.8095e-04\n",
      "Epoch 94/100\n",
      "4/4 [==============================] - 0s 2ms/step - loss: 7.5070e-04\n",
      "Epoch 95/100\n",
      "4/4 [==============================] - 0s 2ms/step - loss: 0.0014\n",
      "Epoch 96/100\n",
      "4/4 [==============================] - 0s 2ms/step - loss: 0.0076\n",
      "Epoch 97/100\n",
      "4/4 [==============================] - 0s 2ms/step - loss: 7.4415e-04\n",
      "Epoch 98/100\n",
      "4/4 [==============================] - 0s 2ms/step - loss: 1.6356e-04\n",
      "Epoch 99/100\n",
      "4/4 [==============================] - 0s 2ms/step - loss: 2.0598e-04\n",
      "Epoch 100/100\n",
      "4/4 [==============================] - 0s 2ms/step - loss: 3.0104e-04\n",
      "4/4 [==============================] - 0s 6ms/step\n"
     ]
    }
   ],
   "source": [
    "model.compile(optimizer = RMSprop(), metrics=['loss'])\n",
    "\n",
    "x= tf.linspace(-5,5,100)\n",
    "history = model.fit(x, epochs=100, verbose=1)\n",
    "\n",
    "x_testv = tf.linspace(-5,5,100)\n",
    "a = model.predict(x_testv)"
   ]
  },
  {
   "cell_type": "markdown",
   "id": "39946785",
   "metadata": {
    "ExecuteTime": {
     "end_time": "2022-10-20T15:33:09.826973Z",
     "start_time": "2022-10-20T15:33:09.820955Z"
    }
   },
   "source": [
    "La solución a esta ecuación es $y(x)=cos(x)-0.5sin(x)$"
   ]
  },
  {
   "cell_type": "code",
   "execution_count": 75,
   "id": "125154ca",
   "metadata": {
    "ExecuteTime": {
     "end_time": "2022-10-20T15:45:10.707591Z",
     "start_time": "2022-10-20T15:45:10.585370Z"
    }
   },
   "outputs": [
    {
     "data": {
      "image/png": "[encoded data removed]",
      "text/plain": [
       "<Figure size 640x480 with 1 Axes>"
      ]
     },
     "metadata": {},
     "output_type": "display_data"
    }
   ],
   "source": [
    "plt.plot(x_testv, a, color='red')\n",
    "plt.plot(x_testv,np.cos(x)-0.5*np.sin(x), color= 'green')\n",
    "plt.show()"
   ]
  },
  {
   "cell_type": "code",
   "execution_count": null,
   "id": "d4b2c8a0",
   "metadata": {},
   "outputs": [],
   "source": []
  }
 ],
 "metadata": {
  "hide_input": false,
  "kernelspec": {
   "display_name": "Python 3 (ipykernel)",
   "language": "python",
   "name": "python3"
  },
  "language_info": {
   "codemirror_mode": {
    "name": "ipython",
    "version": 3
   },
   "file_extension": ".py",
   "mimetype": "text/x-python",
   "name": "python",
   "nbconvert_exporter": "python",
   "pygments_lexer": "ipython3",
   "version": "3.7.10"
  },
  "latex_envs": {
   "LaTeX_envs_menu_present": true,
   "autoclose": true,
   "autocomplete": true,
   "bibliofile": "biblio.bib",
   "cite_by": "apalike",
   "current_citInitial": 1,
   "eqLabelWithNumbers": true,
   "eqNumInitial": 1,
   "hotkeys": {
    "equation": "Ctrl-E",
    "itemize": "Ctrl-I"
   },
   "labels_anchors": false,
   "latex_user_defs": false,
   "report_style_numbering": true,
   "user_envs_cfg": false
  },
  "toc": {
   "base_numbering": 1,
   "nav_menu": {},
   "number_sections": true,
   "sideBar": true,
   "skip_h1_title": false,
   "title_cell": "Table of Contents",
   "title_sidebar": "Contents",
   "toc_cell": false,
   "toc_position": {},
   "toc_section_display": true,
   "toc_window_display": false
  },
  "varInspector": {
   "cols": {
    "lenName": 16,
    "lenType": 16,
    "lenVar": 40
   },
   "kernels_config": {
    "python": {
     "delete_cmd_postfix": "",
     "delete_cmd_prefix": "del ",
     "library": "var_list.py",
     "varRefreshCmd": "print(var_dic_list())"
    },
    "r": {
     "delete_cmd_postfix": ") ",
     "delete_cmd_prefix": "rm(",
     "library": "var_list.r",
     "varRefreshCmd": "cat(var_dic_list()) "
    }
   },
   "types_to_exclude": [
    "module",
    "function",
    "builtin_function_or_method",
    "instance",
    "_Feature"
   ],
   "window_display": false
  }
 },
 "nbformat": 4,
 "nbformat_minor": 5
}
